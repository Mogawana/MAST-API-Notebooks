{
 "cells": [
  {
   "cell_type": "markdown",
   "metadata": {},
   "source": [
    "We are curious as to whether our subset of COS spectra were targeting High Velocity Clouds (HVC) or the Magellanic Stream (MS). If they were, this set is biased at some level. What is that level of bias?"
   ]
  },
  {
   "cell_type": "code",
   "execution_count": 6,
   "metadata": {
    "collapsed": true
   },
   "outputs": [],
   "source": [
    "import numpy as np\n",
    "import os,sys\n",
    "import datetime\n",
    "from scipy import misc\n",
    "%matplotlib inline\n",
    "from matplotlib import pyplot as plt\n",
    "import pickle as pk\n",
    "from astropy.io import fits\n",
    "from astroquery import mast\n",
    "from astropy import coordinates\n",
    "from astropy import time\n",
    "from astropy import units"
   ]
  },
  {
   "cell_type": "markdown",
   "metadata": {},
   "source": [
    "Load the objects from Yong Zheng's List of Si IV absorbers"
   ]
  },
  {
   "cell_type": "code",
   "execution_count": 7,
   "metadata": {
    "collapsed": false
   },
   "outputs": [],
   "source": [
    "objnames = np.load('/Users/jegpeek/Dropbox/Zheng_CGQALD/SiIV-QSO.sav.npy')"
   ]
  },
  {
   "cell_type": "markdown",
   "metadata": {},
   "source": [
    "What are the objnames?"
   ]
  },
  {
   "cell_type": "code",
   "execution_count": 14,
   "metadata": {
    "collapsed": false
   },
   "outputs": [
    {
     "data": {
      "text/plain": [
       "array([['MRK1392', 'PG1352+183', 'RXS-J21388-3828', 'CTS487',\n",
       "        'QSO-B2356-309', 'PKS2155-304', '1ES1553+113',\n",
       "        'SDSS-J141038.39+230447.1', 'NGC-5548', 'QSO-B1617+1731',\n",
       "        'PG-1407+265', 'MARK509', 'SDSSJ133045.15+281321.4', 'MR2251-178',\n",
       "        'PHL1811', 'HB89.1259+281', 'RXJ2139.7+0246', 'QSO-B1440+3539',\n",
       "        'MRK1513', 'PMNJ2345-1555', 'SDSSJ135341.03+361948.0', 'MRK304',\n",
       "        'SDSSJ232259.98-005359.2', 'HS1831+5338', 'NGC-7469', 'PG1626+554',\n",
       "        'X-CYG-X-2', 'SBS1624+575', 'SDSS.J130429.04+311308.2',\n",
       "        'SBS1527+564', 'MRK290', '4C--01.61', 'HS1700+6416', 'PG1309+355',\n",
       "        'MRK876', 'MRK817', 'FBS1526+659', 'RXSJ15032+6809', 'RBS2055',\n",
       "        'PG0003+158', 'MRK-335', 'SDSSJ145907.58+714019.9', 'PG1351+640',\n",
       "        '4C25.01', 'IRASF00040+4325', 'QSO-B0026+129', 'PG1259+593',\n",
       "        'RXSJ00437+3725', 'RXSJ00508+3536', 'MRK1148', 'RXSJ00537+2232',\n",
       "        'IZW1', 'PG0052+251', 'SDSSJ123335.07+475800.4', 'NGC-3516',\n",
       "        '3C48', '3C263', 'VIIZW244', 'PG0804+761', '3C-66A', 'S50716+714',\n",
       "        'NGC-4051', 'MRK106', 'SDSSJ121114.56+365739.5', 'PG1121+422',\n",
       "        'PG1112+431', '3C57', 'SDSSJ080908.13+461925.6', 'HB89-0232-042',\n",
       "        'MRK-1044', 'PG0953+414', 'NGC-985', 'TON1187', 'HS1102+3441',\n",
       "        'QSO-B1215+303', 'PG1048+342', 'FBQSJ1010+3003', 'PG1001+291',\n",
       "        'SDSSJ110307.57+291230.0', 'Q0349-146', 'PG1202+281',\n",
       "        'SDSSJ111754.31+263416.6', 'PG1116+215', 'TONS210', '4C-13.41',\n",
       "        'SDSSJ094733.21+100508.7', 'B0117-2837', '2DFGRSS393Z082',\n",
       "        'HE0241-3043', 'B0120-28', '2XMM-J100420.0+051300',\n",
       "        'RXSJ09565-0452', 'PG1011-040', 'Q0439-433', 'HE0226-4110',\n",
       "        'PG1222+216', 'PKS0558-504', 'HE0435-5304', 'RXJ0439.6-5311',\n",
       "        'J114434.72+070516.4', 'J115709.77+090607.3', 'IRAS-F04250-5718',\n",
       "        'PG1126-041', 'QSO-B1229+204', 'HE0153-4520', 'IRAS-L06229-6434',\n",
       "        'SDSSJ121850.51+101554.2', 'CAL-F-COPY', 'PKS1136-13',\n",
       "        'SDSSJ121716.08+080942.0', 'SDSSJ122512.93+121835.6', 'PG1216+069',\n",
       "        'MS1217.0+0700', 'J122137.93+043026.1', 'ICRF-J122011.8+020342',\n",
       "        'NGC-3783', 'SDSSJ123235.82+060310.0', 'RXJ1230.8+0115',\n",
       "        'HE0056-3622', 'FAIRALL9', 'RXS-J23218-7026', 'QSO-B1307+085',\n",
       "        'RXS-J00057-5007', 'SDSSJ134251.60-005345.3', 'HE2258-5524',\n",
       "        '1H-2129-624', 'ESO292-G24', 'HE2347-4342', 'ESO-141-55',\n",
       "        'IRAS-F22456-5125', 'PG1435-067', 'RBS1892', 'LBQS-1435-0134',\n",
       "        'RBS2000', 'SDSS-J141309.14+092011.2', 'RXJ2154.1-4414',\n",
       "        'FBQS.J130451.4+245445', 'X-SCO-X-1'],\n",
       "       ['2.754', '4.3748', '4.5093', '5.5445', '12.8387', '17.7305',\n",
       "        '21.9089', '24.5712', '31.9606', '32.8943', '34.6687', '35.9711',\n",
       "        '42.3677', '46.1974', '47.4732', '51.5255', '58.0876', '59.2377',\n",
       "        '63.6699', '65.6728', '71.6679', '75.9894', '80.2738', '82.5864',\n",
       "        '83.0986', '84.5149', '87.3279', '87.348', '88.8708', '90.0061',\n",
       "        '91.4892', '91.6648', '94.4002', '95.4902', '98.2694', '100.2997',\n",
       "        '101.7726', '106.4517', '106.6723', '107.3184', '108.7632',\n",
       "        '109.9829', '111.894', '114.0722', '114.4161', '114.6377',\n",
       "        '120.5556', '121.2326', '122.7965', '123.0933', '123.638',\n",
       "        '123.7485', '123.9075', '131.2436', '133.2357', '133.9626',\n",
       "        '134.1592', '136.6575', '138.2789', '140.143', '143.981',\n",
       "        '148.8831', '161.1387', '161.2592', '167.2577', '167.8871',\n",
       "        '173.0773', '173.3223', '174.4627', '179.6945', '179.7861',\n",
       "        '180.8371', '188.329', '188.5633', '188.8749', '190.6024',\n",
       "        '198.4271', '200.0835', '201.5582', '205.4845', '205.9628',\n",
       "        '209.1002', '223.3597', '224.9715', '225.1177', '225.3726',\n",
       "        '225.7307', '226.556', '227.4876', '227.7754', '234.161',\n",
       "        '243.3319', '246.5011', '247.9801', '253.9407', '255.0733',\n",
       "        '257.9622', '261.0247', '261.216', '261.5169', '264.9672',\n",
       "        '266.9868', '267.6306', '269.4422', '271.7958', '274.3115',\n",
       "        '276.899', '277.1769', '277.5252', '278.2542', '279.1271',\n",
       "        '281.0714', '281.1022', '284.179', '284.9919', '287.456',\n",
       "        '290.0851', '291.2603', '293.7191', '295.0729', '313.2924',\n",
       "        '316.7866', '320.7101', '328.819', '330.7246', '331.1426',\n",
       "        '334.8992', '336.0339', '338.1834', '338.5115', '343.9784',\n",
       "        '345.8979', '348.7184', '350.1952', '354.0969', '355.1792',\n",
       "        '357.3653', '359.0942'],\n",
       "       ['50.264', '72.8738', '-48.4647', '-69.4435', '-78.0356',\n",
       "        '-52.2459', '43.9642', '71.6404', '70.4958', '41.0759', '72.5886',\n",
       "        '-29.8554', '81.2298', '-61.3256', '-44.8152', '87.6607',\n",
       "        '-35.006', '65.0346', '-29.07', '-70.9852', '73.9143', '-34.2225',\n",
       "        '-56.2637', '24.2127', '-45.4667', '42.1886', '-11.3164',\n",
       "        '42.0018', '85.0164', '49.5519', '47.9536', '-60.3619', '36.1586',\n",
       "        '80.7328', '40.3757', '53.4783', '44.3768', '44.5061', '-34.6585',\n",
       "        '-45.3258', '-41.4245', '42.0971', '52.0203', '-36.2766',\n",
       "        '-18.4214', '-49.246', '58.0478', '-25.4243', '-27.2596',\n",
       "        '-45.4387', '-40.3291', '-50.175', '-37.4378', '68.8723',\n",
       "        '42.4028', '-28.7194', '49.744', '32.6778', '31.0327', '-16.7669',\n",
       "        '28.0176', '70.0851', '42.8795', '77.0081', '66.8587', '64.9398',\n",
       "        '-67.2617', '32.2889', '-56.1555', '-60.4774', '51.7091',\n",
       "        '-59.4902', '55.3778', '66.2186', '82.0529', '63.4374', '54.6252',\n",
       "        '53.2069', '66.0912', '-46.3249', '79.6131', '69.16', '68.2091',\n",
       "        '-83.1603', '49.1204', '43.5395', '-83.6507', '-64.9622',\n",
       "        '-65.259', '-82.9332', '44.6222', '37.0045', '40.7487', '-41.3828',\n",
       "        '-65.7748', '81.6598', '-28.5693', '-41.3746', '-40.9268',\n",
       "        '64.4402', '67.8785', '-41.9963', '52.7453', '81.7395', '-67.975',\n",
       "        '-27.3195', '71.4701', '-35.4212', '45.4316', '69.3797', '73.9574',\n",
       "        '68.1433', '68.2344', '66.2878', '63.84', '22.9475', '68.4533',\n",
       "        '63.6598', '-80.898', '-57.8266', '-44.8373', '70.7067',\n",
       "        '-65.4054', '59.3665', '-55.6697', '-42.523', '-68.1571',\n",
       "        '-69.5736', '-26.7112', '-56.6295', '47.2062', '-58.3672',\n",
       "        '51.3746', '-67.5845', '63.759', '-50.8646', '86.2591', '23.7844']],\n",
       "      dtype='<U32')"
      ]
     },
     "execution_count": 14,
     "metadata": {},
     "output_type": "execute_result"
    }
   ],
   "source": [
    "objnames"
   ]
  },
  {
   "cell_type": "markdown",
   "metadata": {},
   "source": [
    "Now go search the archive for all the proposal ids that are in each target"
   ]
  },
  {
   "cell_type": "code",
   "execution_count": 9,
   "metadata": {
    "collapsed": false
   },
   "outputs": [],
   "source": [
    "#sorry, I am bad at python :)\n",
    "PIDs = np.array(0)\n",
    "targets = np.array(0)\n",
    "\n",
    "for i, oname in enumerate(objnames[0]):\n",
    "    table_obj = mast.Observations.query_criteria(target_name=oname, instrument_name='COS/FUV')\n",
    "    tcoord = coordinates.SkyCoord(table_obj[0][\"s_ra\"],table_obj[0][\"s_dec\"], unit='deg')\n",
    "    table = mast.Observations.query_criteria(coordinates=tcoord, radius=2*units.arcsecond, instrument_name='COS/FUV')\n",
    "    PIDs = np.append(PIDs, table[\"proposal_id\"].data)\n",
    "    targets = np.append(targets, np.repeat(oname, len(table)))\n",
    "PIDs = PIDs[1:]\n",
    "targets = targets[1:]\n",
    "abstype = np.array(len(PIDs))"
   ]
  },
  {
   "cell_type": "markdown",
   "metadata": {},
   "source": [
    "How many targets?"
   ]
  },
  {
   "cell_type": "code",
   "execution_count": 10,
   "metadata": {
    "collapsed": false
   },
   "outputs": [
    {
     "data": {
      "text/plain": [
       "2286"
      ]
     },
     "execution_count": 10,
     "metadata": {},
     "output_type": "execute_result"
    }
   ],
   "source": [
    "len(targets)"
   ]
  },
  {
   "cell_type": "markdown",
   "metadata": {},
   "source": [
    "And how many unique IDs? We are going to feed this to: https://archive.stsci.edu/hst/abstract.html"
   ]
  },
  {
   "cell_type": "code",
   "execution_count": 11,
   "metadata": {
    "collapsed": false
   },
   "outputs": [
    {
     "name": "stdout",
     "output_type": "stream",
     "text": [
      "11505,11520,11524,11528,11541,11598,11619,11686,11692,11698,11728,11741,11834,12022,12024,12025,12029,12038,12204,12212,12248,12275,12276,12486,12536,12569,12604,12612,12863,12864,12916,12936,12953,12958,12988,13008,13033,13115,13184,13301,13330,13347,13382,13383,13398,13423,13429,13444,13448,13451,13491,13651,13749,13774,13811,13812,13814,13833,13836,13840,13852,14054,14071,14176,14242,14268,14479,14481\n"
     ]
    }
   ],
   "source": [
    "uPIDs = np.unique(PIDs)\n",
    "print(\",\".join(uPIDs))"
   ]
  },
  {
   "cell_type": "markdown",
   "metadata": {
    "collapsed": true
   },
   "source": [
    "Now we want to go through each abstract and figure out if they are targeting HVCs or the Mag Stream. We just do a search on the resulting webpage for HVC and MS."
   ]
  },
  {
   "cell_type": "markdown",
   "metadata": {},
   "source": [
    "By my read these are the culprits:\n",
    "\n",
    "HVCs: 12275 13840\n",
    "\n",
    "MS: 12204 12604"
   ]
  },
  {
   "cell_type": "markdown",
   "metadata": {},
   "source": [
    "There are now two questions: what targets were observed by HVC and MS programs and what targets were *only* observed by MS and HVC programs. Turns out the answer is almost the same: **13 or 14 of the targets.**"
   ]
  },
  {
   "cell_type": "code",
   "execution_count": 92,
   "metadata": {
    "collapsed": false
   },
   "outputs": [],
   "source": [
    "whpidmshvc = np.where((PIDs == '12275') | (PIDs == '13840')| (PIDs == '12204')| (PIDs == '12604'))"
   ]
  },
  {
   "cell_type": "code",
   "execution_count": 93,
   "metadata": {
    "collapsed": false
   },
   "outputs": [],
   "source": [
    "whpid_not_mshvc = np.where((PIDs != '12275') & (PIDs != '13840')& (PIDs != '12204')& (PIDs != '12604'))"
   ]
  },
  {
   "cell_type": "code",
   "execution_count": 94,
   "metadata": {
    "collapsed": false
   },
   "outputs": [],
   "source": [
    "observed_by_non_HVCMS_programs  = np.unique(targets[whpid_not_mshvc])\n",
    "utargs = np.unique(targets)"
   ]
  },
  {
   "cell_type": "code",
   "execution_count": 95,
   "metadata": {
    "collapsed": true
   },
   "outputs": [],
   "source": [
    "temp3 = [x for x in utargs if x not in observed_by_non_HVCMS_programs]"
   ]
  },
  {
   "cell_type": "code",
   "execution_count": 96,
   "metadata": {
    "collapsed": false
   },
   "outputs": [
    {
     "name": "stdout",
     "output_type": "stream",
     "text": [
      "['B0117-2837', 'B0120-28', 'ESO292-G24', 'FAIRALL9', 'HE0056-3622', 'HS1831+5338', 'PG1112+431', 'PKS1136-13', 'RBS1892', 'RXJ2139.7+0246', 'RXSJ09565-0452', 'TON1187', 'TONS210']\n"
     ]
    }
   ],
   "source": [
    "print(temp3)"
   ]
  },
  {
   "cell_type": "code",
   "execution_count": 97,
   "metadata": {
    "collapsed": false
   },
   "outputs": [
    {
     "name": "stdout",
     "output_type": "stream",
     "text": [
      "['B0117-2837' 'B0120-28' 'ESO292-G24' 'FAIRALL9' 'HE0056-3622'\n",
      " 'HS1831+5338' 'MRK304' 'PG1112+431' 'PKS1136-13' 'RBS1892'\n",
      " 'RXJ2139.7+0246' 'RXSJ09565-0452' 'TON1187' 'TONS210']\n"
     ]
    }
   ],
   "source": [
    "print(np.unique(targets[whpidmshvc]))"
   ]
  },
  {
   "cell_type": "markdown",
   "metadata": {
    "collapsed": true
   },
   "source": [
    "This means, that of our 138 observations, about 10% were targeted through HVCs. We can show that our final results are not strongly changed by including or excluding these."
   ]
  }
 ],
 "metadata": {
  "anaconda-cloud": {},
  "kernelspec": {
   "display_name": "Python [Root]",
   "language": "python",
   "name": "Python [Root]"
  },
  "language_info": {
   "codemirror_mode": {
    "name": "ipython",
    "version": 3
   },
   "file_extension": ".py",
   "mimetype": "text/x-python",
   "name": "python",
   "nbconvert_exporter": "python",
   "pygments_lexer": "ipython3",
   "version": "3.5.2"
  }
 },
 "nbformat": 4,
 "nbformat_minor": 0
}
