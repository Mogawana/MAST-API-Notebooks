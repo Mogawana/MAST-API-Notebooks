{
 "cells": [
  {
   "cell_type": "code",
   "execution_count": 1,
   "metadata": {},
   "outputs": [],
   "source": [
    "# Do some imports.\n",
    "from astroquery.mast import Observations\n",
    "import numpy"
   ]
  },
  {
   "cell_type": "code",
   "execution_count": 2,
   "metadata": {},
   "outputs": [
    {
     "name": "stdout",
     "output_type": "stream",
     "text": [
      "<TableColumns names=('dataproduct_type','calib_level','obs_collection','obs_id','target_name','s_ra','s_dec','t_min','t_max','t_exptime','wavelength_region','filters','em_min','em_max','target_classification','obs_title','t_obs_release','dataRights','mtFlag','srcDen','instrument_name','proposal_pi','proposal_id','intentType','project','s_region','jpegURL','dataURL','obsid','objID','objID1','distance')>\n"
     ]
    }
   ],
   "source": [
    "# Let's get every time series observation available at MAST within 0.2 degrees of M67.\n",
    "search_result = Observations.query_criteria(objectname=\"M67\", dataproduct_type=[\"timeseries\"], radius=\"0.2 deg\")\n",
    "# The return result is a Table containing the metadata you see when doing a MAST Portal search: coordinates, timestamps,\n",
    "# filters, target name, mission/project, etc.\n",
    "print(search_result.columns)"
   ]
  },
  {
   "cell_type": "code",
   "execution_count": 3,
   "metadata": {},
   "outputs": [
    {
     "name": "stdout",
     "output_type": "stream",
     "text": [
      "1436\n"
     ]
    }
   ],
   "source": [
    "# How many observations did we get?\n",
    "print(len(search_result))"
   ]
  },
  {
   "cell_type": "code",
   "execution_count": 4,
   "metadata": {},
   "outputs": [
    {
     "name": "stdout",
     "output_type": "stream",
     "text": [
      "{'hlsp_polar', 'hlsp_everest', 'K2', 'hlsp_k2sc', 'hlsp_k2sff'}\n"
     ]
    }
   ],
   "source": [
    "# Did these all come from the K2 mission?  Answer: no!  High Level Science Products too!\n",
    "print(set(search_result['project']))"
   ]
  },
  {
   "cell_type": "code",
   "execution_count": 5,
   "metadata": {},
   "outputs": [
    {
     "name": "stdout",
     "output_type": "stream",
     "text": [
      " target_name \n",
      "-------------\n",
      "ktwo200008665\n",
      "ktwo200008692\n",
      "ktwo211401366\n",
      "ktwo211400464\n",
      "ktwo211409348\n"
     ]
    }
   ],
   "source": [
    "# Let's get a list of all the K2 IDs.  NOTE:  K2 mission-produced products always have \"project\" = \"K2\".\n",
    "where_k2_mission = numpy.where(search_result['project'] == 'K2')[0]\n",
    "print(search_result['target_name'][where_k2_mission][0:5])"
   ]
  },
  {
   "cell_type": "code",
   "execution_count": 6,
   "metadata": {},
   "outputs": [
    {
     "name": "stdout",
     "output_type": "stream",
     "text": [
      "['200008665' '200008692' '211401366' '211400464' '211409348' '211400500'\n",
      " '200008654' '200008662' '200008672' '200008674' '200008685' '200008694'\n",
      " '200008695' '200008697' '211400150' '211401338' '211401610' '211408858'\n",
      " '211409011' '211409644' '211411922' '211412877' '211416749' '200008655'\n",
      " '200008664' '200008666' '200008675' '200008677' '200008684' '200008686'\n",
      " '200008689' '200008709' '211398530' '211399673' '211400811' '211408522'\n",
      " '211408750' '211409088' '211410931' '211412252' '211417765' '211417812'\n",
      " '211421683' '228682441' '200008656' '200008657' '200008658' '200008659'\n",
      " '200008667' '200008668' '200008671' '200008676' '200008679' '200008680'\n",
      " '200008681' '200008682' '200008688' '200008690' '200008691' '200008699'\n",
      " '200008700' '200008701' '200008704' '200008706' '200008711' '211398920'\n",
      " '211399364' '211399481' '211399819' '211400215' '211400364' '211400616'\n",
      " '211400671' '211401069' '211401367' '211401403' '211403555' '211408015'\n",
      " '211408116' '211408990' '211409560' '211411508' '211412077' '211412192'\n",
      " '211413815' '211414081' '211414962' '211415364' '211416577' '211422935'\n",
      " '228682410' '228682412' '200008663' '200008670' '200008673' '200008683'\n",
      " '200008693' '200008702' '200008703' '200008710' '211398385' '211400002'\n",
      " '211400106' '211400563' '211400944' '211401265' '211408138' '211409345'\n",
      " '211409376' '211414203' '211416111' '211420549']\n"
     ]
    }
   ],
   "source": [
    "# I just want the actual ID numbers, so make a numpy array stripping away the \"ktwo\" prefix.\n",
    "k2_ids = numpy.asarray(\n",
    "        [x.strip('ktwo') for x in search_result['target_name'][where_k2_mission]]\n",
    "    )\n",
    "print(k2_ids)"
   ]
  },
  {
   "cell_type": "code",
   "execution_count": 7,
   "metadata": {},
   "outputs": [
    {
     "name": "stdout",
     "output_type": "stream",
     "text": [
      "K2 ID 228682441 - All five light curves found!\n",
      "Downloading URL https://mast.stsci.edu/api/v0/download/file/K2/url/missions/k2/lightcurves/c5/228600000/82000/ktwo228682441-c05_llc.fits to ./mastDownload/K2/ktwo228682441-c05_lc/ktwo228682441-c05_llc.fits ... [Done]\n",
      "Downloading URL https://mast.stsci.edu/api/v0/download/file/K2/url/hlsps/polar/c05/228600000/82441/hlsp_polar_k2_lightcurve_228682441-c05_kepler_v1_llc.fits to ./mastDownload/K2/polar228682441-c05_lc/hlsp_polar_k2_lightcurve_228682441-c05_kepler_v1_llc.fits ... [Done]\n",
      "Downloading URL https://mast.stsci.edu/api/v0/download/file/K2/url/hlsps/k2sff/c05/228600000/82441/hlsp_k2sff_k2_lightcurve_228682441-c05_kepler_v1_allfiles.tar.gz to ./mastDownload/K2/k2sff228682441-c05_lc/hlsp_k2sff_k2_lightcurve_228682441-c05_kepler_v1_allfiles.tar.gz ... [Done]\n",
      "Downloading URL https://mast.stsci.edu/api/v0/download/file/K2/url/hlsps/everest/v2/c05/228600000/82441/hlsp_everest_k2_llc_228682441-c05_kepler_v2.0_lc.fits to ./mastDownload/K2/everest228682441-c05_lc/hlsp_everest_k2_llc_228682441-c05_kepler_v2.0_lc.fits ... [Done]\n",
      "Downloading URL https://mast.stsci.edu/api/v0/download/file/K2/url/hlsps/k2sc/v2/c05/228600000/hlsp_k2sc_k2_llc_228682441-c05_kepler_v2_lc.fits to ./mastDownload/K2/k2sc228682441-c05_lc/hlsp_k2sc_k2_llc_228682441-c05_kepler_v2_lc.fits ... [Done]\n",
      "K2 ID 228682410 - All five light curves found!\n",
      "Downloading URL https://mast.stsci.edu/api/v0/download/file/K2/url/missions/k2/lightcurves/c5/228600000/82000/ktwo228682410-c05_llc.fits to ./mastDownload/K2/ktwo228682410-c05_lc/ktwo228682410-c05_llc.fits ... [Done]\n",
      "Downloading URL https://mast.stsci.edu/api/v0/download/file/K2/url/hlsps/polar/c05/228600000/82410/hlsp_polar_k2_lightcurve_228682410-c05_kepler_v1_llc.fits to ./mastDownload/K2/polar228682410-c05_lc/hlsp_polar_k2_lightcurve_228682410-c05_kepler_v1_llc.fits ... [Done]\n",
      "Downloading URL https://mast.stsci.edu/api/v0/download/file/K2/url/hlsps/k2sff/c05/228600000/82410/hlsp_k2sff_k2_lightcurve_228682410-c05_kepler_v1_allfiles.tar.gz to ./mastDownload/K2/k2sff228682410-c05_lc/hlsp_k2sff_k2_lightcurve_228682410-c05_kepler_v1_allfiles.tar.gz ... [Done]\n",
      "Downloading URL https://mast.stsci.edu/api/v0/download/file/K2/url/hlsps/everest/v2/c05/228600000/82410/hlsp_everest_k2_llc_228682410-c05_kepler_v2.0_lc.fits to ./mastDownload/K2/everest228682410-c05_lc/hlsp_everest_k2_llc_228682410-c05_kepler_v2.0_lc.fits ... [Done]\n",
      "Downloading URL https://mast.stsci.edu/api/v0/download/file/K2/url/hlsps/k2sc/v2/c05/228600000/hlsp_k2sc_k2_llc_228682410-c05_kepler_v2_lc.fits to ./mastDownload/K2/k2sc228682410-c05_lc/hlsp_k2sc_k2_llc_228682410-c05_kepler_v2_lc.fits ... [Done]\n",
      "K2 ID 228682412 - All five light curves found!\n",
      "Downloading URL https://mast.stsci.edu/api/v0/download/file/K2/url/missions/k2/lightcurves/c5/228600000/82000/ktwo228682412-c05_llc.fits to ./mastDownload/K2/ktwo228682412-c05_lc/ktwo228682412-c05_llc.fits ... [Done]\n",
      "Downloading URL https://mast.stsci.edu/api/v0/download/file/K2/url/hlsps/polar/c05/228600000/82412/hlsp_polar_k2_lightcurve_228682412-c05_kepler_v1_llc.fits to ./mastDownload/K2/polar228682412-c05_lc/hlsp_polar_k2_lightcurve_228682412-c05_kepler_v1_llc.fits ... [Done]\n",
      "Downloading URL https://mast.stsci.edu/api/v0/download/file/K2/url/hlsps/k2sff/c05/228600000/82412/hlsp_k2sff_k2_lightcurve_228682412-c05_kepler_v1_allfiles.tar.gz to ./mastDownload/K2/k2sff228682412-c05_lc/hlsp_k2sff_k2_lightcurve_228682412-c05_kepler_v1_allfiles.tar.gz ... [Done]\n",
      "Downloading URL https://mast.stsci.edu/api/v0/download/file/K2/url/hlsps/everest/v2/c05/228600000/82412/hlsp_everest_k2_llc_228682412-c05_kepler_v2.0_lc.fits to ./mastDownload/K2/everest228682412-c05_lc/hlsp_everest_k2_llc_228682412-c05_kepler_v2.0_lc.fits ... [Done]\n",
      "Downloading URL https://mast.stsci.edu/api/v0/download/file/K2/url/hlsps/k2sc/v2/c05/228600000/hlsp_k2sc_k2_llc_228682412-c05_kepler_v2_lc.fits to ./mastDownload/K2/k2sc228682412-c05_lc/hlsp_k2sc_k2_llc_228682412-c05_kepler_v2_lc.fits ... [Done]\n"
     ]
    }
   ],
   "source": [
    "# Now we will loop over each K2 ID and download the light curves if and only if there is a LC from the mission\n",
    "# AND all four of the HLSP teams.\n",
    "for k2id in k2_ids:\n",
    "        where_k2id = numpy.where(search_result['target_name'] == 'ktwo' + k2id)[0]\n",
    "        # Does this have a POLAR light curve?\n",
    "        where_polar = numpy.where(search_result['target_name'] == 'polar' + k2id)[0]\n",
    "        n_polar = len(where_polar)\n",
    "        # Does this have a K2SFF light curve?\n",
    "        where_k2sff = numpy.where(search_result['target_name'] == 'k2sff' + k2id)[0]\n",
    "        n_k2sff = len(where_k2sff)\n",
    "        # Does this have an EVEREST light curve?\n",
    "        where_everest = numpy.where(search_result['target_name'] == 'everest' + k2id)[0]\n",
    "        n_everest = len(where_everest)\n",
    "        # Does this have a K2SC light curve?\n",
    "        where_k2sc = numpy.where(search_result['target_name'] == 'k2sc' + k2id)[0]\n",
    "        n_k2sc = len(where_k2sc)\n",
    "        if n_polar == 1 and n_k2sff == 1 and n_everest == 1 and n_k2sc == 1:\n",
    "                print(\"K2 ID \" + k2id + \" - All five light curves found!\")\n",
    "                Observations.download_products(search_result['obsid'][where_k2id])\n",
    "                Observations.download_products(search_result['obsid'][where_polar])\n",
    "                Observations.download_products(search_result['obsid'][where_k2sff])\n",
    "                Observations.download_products(search_result['obsid'][where_everest])\n",
    "                Observations.download_products(search_result['obsid'][where_k2sc])\n",
    "\n",
    "# Note: here I am downloading one observation at a time using the \"obsid\", but download_products can also accept\n",
    "# a list of obsid's, or even an entire Table of data products, so I could do the download step in a single line\n",
    "# if I wanted.  Note also that if you add a \"curl_flag = True\" to the download_products() call, it will create a\n",
    "# curl shell script you can execute later, if you don't want to actually download the files right away.\n",
    "                "
   ]
  },
  {
   "cell_type": "code",
   "execution_count": null,
   "metadata": {},
   "outputs": [],
   "source": []
  }
 ],
 "metadata": {
  "kernelspec": {
   "display_name": "Python 3",
   "language": "python",
   "name": "python3"
  },
  "language_info": {
   "codemirror_mode": {
    "name": "ipython",
    "version": 3
   },
   "file_extension": ".py",
   "mimetype": "text/x-python",
   "name": "python",
   "nbconvert_exporter": "python",
   "pygments_lexer": "ipython3",
   "version": "3.6.4"
  }
 },
 "nbformat": 4,
 "nbformat_minor": 2
}
