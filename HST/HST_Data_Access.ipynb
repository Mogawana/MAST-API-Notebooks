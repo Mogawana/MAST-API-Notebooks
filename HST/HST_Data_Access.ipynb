{
 "cells": [
  {
   "cell_type": "markdown",
   "metadata": {},
   "source": [
    "# Accessing and Downloading HST Data by Proposal"
   ]
  },
  {
   "cell_type": "markdown",
   "metadata": {},
   "source": [
    "This is an example of how to search for HST observations by proposal ID, and then access and download the associated data products."
   ]
  },
  {
   "cell_type": "markdown",
   "metadata": {},
   "source": [
    "### Includes\n",
    "All we need is the mast astroquery module.\n",
    "\n",
    "Astroquery documentation, including installation instructions: https://astroquery.readthedocs.io/en/latest/\n",
    "\n",
    "Mast specificy astroquery documentation: https://astroquery.readthedocs.io/en/latest/mast/mast.html"
   ]
  },
  {
   "cell_type": "code",
   "execution_count": 1,
   "metadata": {},
   "outputs": [],
   "source": [
    "from astroquery.mast import Observations"
   ]
  },
  {
   "cell_type": "markdown",
   "metadata": {},
   "source": [
    "### Searching for HST observations\n",
    "We will use the criteria query so that we can specify a proposal ID. \n",
    "\n",
    "We will set the 'obstype' argument to 'all' so that we get both the calibration and science data associated with our proposal.\n",
    "\n",
    "A list of all the columns that can be contrained is here: https://mast.stsci.edu/api/v0/_c_a_o_mfields.html"
   ]
  },
  {
   "cell_type": "code",
   "execution_count": 7,
   "metadata": {},
   "outputs": [
    {
     "name": "stdout",
     "output_type": "stream",
     "text": [
      "Number of observations: 56\n",
      "dataproduct_type calib_level obs_collection ...   obsid      objID   \n",
      "---------------- ----------- -------------- ... ---------- ----------\n",
      "        spectrum           3            HST ... 2004005717 2019777977\n",
      "        spectrum           3            HST ... 2004005694 2019777750\n",
      "           image           1            HST ... 2003565469 2021591192\n",
      "        spectrum           3            HST ... 2004005677 2019777783\n",
      "        spectrum           3            HST ... 2004005697 2019777774\n",
      "        spectrum           3            HST ... 2004005714 2019777860\n",
      "           image           1            HST ... 2003565472 2021591032\n",
      "        spectrum           3            HST ... 2004005720 2019777947\n",
      "        spectrum           3            HST ... 2004005674 2019777698\n",
      "        spectrum           3            HST ... 2004005700 2019777777\n",
      "             ...         ...            ... ...        ...        ...\n",
      "        spectrum           3            HST ... 2004005705 2019777771\n",
      "        spectrum           2            HST ... 2004005722 2019777823\n",
      "        spectrum           3            HST ... 2004005702 2019777792\n",
      "        spectrum           3            HST ... 2004005713 2019777980\n",
      "        spectrum           2            HST ... 2004005696 2019777705\n",
      "        spectrum           3            HST ... 2004005690 2019777753\n",
      "        spectrum           3            HST ... 2004005673 2019777768\n",
      "        spectrum           3            HST ... 2004005716 2019777962\n",
      "        spectrum           3            HST ... 2004005693 2019777830\n",
      "           image           1            HST ... 2003565468 2021591312\n",
      "        spectrum           3            HST ... 2004005676 2019777701\n",
      "Length = 56 rows\n"
     ]
    }
   ],
   "source": [
    "proposal_obs = Observations.query_criteria(proposal_id=12411, obstype='all')\n",
    "print(\"Number of observations:\",len(proposal_obs))\n",
    "print(proposal_obs)"
   ]
  },
  {
   "cell_type": "markdown",
   "metadata": {},
   "source": [
    "### Gettting associated data products\n",
    "\n",
    "Well get the data products associated with the top two observations."
   ]
  },
  {
   "cell_type": "code",
   "execution_count": 8,
   "metadata": {},
   "outputs": [
    {
     "name": "stdout",
     "output_type": "stream",
     "text": [
      "Number of results: 28\n",
      "  obsID    obs_collection dataproduct_type ...   size   parent_obsid\n",
      "---------- -------------- ---------------- ... -------- ------------\n",
      "2004005694            HST         spectrum ... 10537920   2004005694\n",
      "2004005694            HST         spectrum ...    60480   2004005694\n",
      "2004005694            HST         spectrum ...    37440   2004005694\n",
      "2004005694            HST         spectrum ...    17280   2004005694\n",
      "2004005694            HST         spectrum ...    11520   2004005694\n",
      "2004005694            HST         spectrum ...   112320   2004005694\n",
      "2004005694            HST         spectrum ...   112320   2004005694\n",
      "2004005694            HST         spectrum ...  2260800   2004005694\n",
      "2004005694            HST         spectrum ...    69120   2004005694\n",
      "2004005694            HST         spectrum ...    11520   2004005694\n",
      "       ...            ...              ... ...      ...          ...\n",
      "2004005717            HST         spectrum ...    17280   2004005717\n",
      "2004005717            HST         spectrum ...    11520   2004005717\n",
      "2004005717            HST         spectrum ...   112320   2004005717\n",
      "2004005717            HST         spectrum ...   112320   2004005717\n",
      "2004005717            HST         spectrum ...  2260800   2004005717\n",
      "2004005717            HST         spectrum ...    69120   2004005717\n",
      "2004005717            HST         spectrum ...    11520   2004005717\n",
      "2004005717            HST         spectrum ...  4501440   2004005717\n",
      "2004005717            HST         spectrum ... 21052800   2004005717\n",
      "2004005717            HST         spectrum ...    80640   2004005717\n",
      "2004005717            HST         spectrum ... 14477760   2004005717\n",
      "Length = 28 rows\n"
     ]
    }
   ],
   "source": [
    "data_products = Observations.get_product_list(proposal_obs[0:2])\n",
    "print(\"Number of results:\",len(data_products))\n",
    "print(data_products)"
   ]
  },
  {
   "cell_type": "markdown",
   "metadata": {},
   "source": [
    "### Downloading data products\n",
    "\n",
    "We can download all of these data products, filter the products to only get some."
   ]
  },
  {
   "cell_type": "markdown",
   "metadata": {},
   "source": [
    "#### Downloading all the data products\n",
    "\n",
    "First we'll explicitly download the first 5 data products.\n",
    "\n",
    "**Note:** The default behavior is to only download the \"minimumn recommended products,\" so to get *all* of the products we need to set the mrp_only flag to false."
   ]
  },
  {
   "cell_type": "code",
   "execution_count": 10,
   "metadata": {},
   "outputs": [
    {
     "name": "stdout",
     "output_type": "stream",
     "text": [
      "Downloading URL https://mast.stsci.edu/api/v0/download/file?uri=mast:HST/product/obmzl3060_crj.fits to ./mastDownload/HST/obmzl3060/obmzl3060_crj.fits ... [Done]\n",
      "Downloading URL https://mast.stsci.edu/api/v0/download/file?uri=mast:HST/product/obmzl3060_jif.fits to ./mastDownload/HST/obmzl3060/obmzl3060_jif.fits ... [Done]\n",
      "Downloading URL https://mast.stsci.edu/api/v0/download/file?uri=mast:HST/product/obmzl3060_jit.fits to ./mastDownload/HST/obmzl3060/obmzl3060_jit.fits ... [Done]\n",
      "Downloading URL https://mast.stsci.edu/api/v0/download/file?uri=mast:HST/product/obmzl3060_jwf.fits to ./mastDownload/HST/obmzl3060/obmzl3060_jwf.fits ... [Done]\n",
      "Downloading URL https://mast.stsci.edu/api/v0/download/file?uri=mast:HST/product/obmzl3060_jwt.fits to ./mastDownload/HST/obmzl3060/obmzl3060_jwt.fits ... [Done]\n"
     ]
    },
    {
     "data": {
      "text/html": [
       "<i>Table length=5</i>\n",
       "<table id=\"table34897737936\" class=\"table-striped table-bordered table-condensed\">\n",
       "<thead><tr><th>Local Path</th><th>Status</th><th>Message</th><th>URL</th></tr></thead>\n",
       "<thead><tr><th>str47</th><th>str8</th><th>object</th><th>object</th></tr></thead>\n",
       "<tr><td>./mastDownload/HST/obmzl3060/obmzl3060_crj.fits</td><td>COMPLETE</td><td>None</td><td>None</td></tr>\n",
       "<tr><td>./mastDownload/HST/obmzl3060/obmzl3060_jif.fits</td><td>COMPLETE</td><td>None</td><td>None</td></tr>\n",
       "<tr><td>./mastDownload/HST/obmzl3060/obmzl3060_jit.fits</td><td>COMPLETE</td><td>None</td><td>None</td></tr>\n",
       "<tr><td>./mastDownload/HST/obmzl3060/obmzl3060_jwf.fits</td><td>COMPLETE</td><td>None</td><td>None</td></tr>\n",
       "<tr><td>./mastDownload/HST/obmzl3060/obmzl3060_jwt.fits</td><td>COMPLETE</td><td>None</td><td>None</td></tr>\n",
       "</table>"
      ],
      "text/plain": [
       "<Table length=5>\n",
       "                   Local Path                    Status  Message  URL  \n",
       "                     str47                        str8    object object\n",
       "----------------------------------------------- -------- ------- ------\n",
       "./mastDownload/HST/obmzl3060/obmzl3060_crj.fits COMPLETE    None   None\n",
       "./mastDownload/HST/obmzl3060/obmzl3060_jif.fits COMPLETE    None   None\n",
       "./mastDownload/HST/obmzl3060/obmzl3060_jit.fits COMPLETE    None   None\n",
       "./mastDownload/HST/obmzl3060/obmzl3060_jwf.fits COMPLETE    None   None\n",
       "./mastDownload/HST/obmzl3060/obmzl3060_jwt.fits COMPLETE    None   None"
      ]
     },
     "execution_count": 10,
     "metadata": {},
     "output_type": "execute_result"
    }
   ],
   "source": [
    "Observations.download_products(data_products[:5],mrp_only=False)"
   ]
  },
  {
   "cell_type": "markdown",
   "metadata": {},
   "source": [
    "#### Downloading products based on a filter\n",
    "\n",
    "Now we will download on the the data products marked \"SCIENCE.\""
   ]
  },
  {
   "cell_type": "code",
   "execution_count": 15,
   "metadata": {},
   "outputs": [
    {
     "name": "stdout",
     "output_type": "stream",
     "text": [
      "Downloading URL https://mast.stsci.edu/api/v0/download/file?uri=mast:HST/product/obmzl3060_raw.fits to ./mastDownload/HST/obmzl3060/obmzl3060_raw.fits ... [Done]\n",
      "Downloading URL https://mast.stsci.edu/api/v0/download/file?uri=mast:HST/product/obmzl3060_flt.fits to ./mastDownload/HST/obmzl3060/obmzl3060_flt.fits ... [Done]\n",
      "Downloading URL https://mast.stsci.edu/api/v0/download/file?uri=mast:HST/product/obmzl3060_sx1.fits to ./mastDownload/HST/obmzl3060/obmzl3060_sx1.fits ... [Done]\n",
      "Downloading URL https://mast.stsci.edu/api/v0/download/file?uri=mast:HST/product/obmzl3060_sx2.fits to ./mastDownload/HST/obmzl3060/obmzl3060_sx2.fits ... [Done]\n",
      "Downloading URL https://mast.stsci.edu/api/v0/download/file?uri=mast:HST/product/obmzm10d0_raw.fits to ./mastDownload/HST/obmzm10d0/obmzm10d0_raw.fits ... [Done]\n",
      "Downloading URL https://mast.stsci.edu/api/v0/download/file?uri=mast:HST/product/obmzm10d0_flt.fits to ./mastDownload/HST/obmzm10d0/obmzm10d0_flt.fits ... [Done]\n",
      "Downloading URL https://mast.stsci.edu/api/v0/download/file?uri=mast:HST/product/obmzm10d0_sx1.fits to ./mastDownload/HST/obmzm10d0/obmzm10d0_sx1.fits ... [Done]\n",
      "Downloading URL https://mast.stsci.edu/api/v0/download/file?uri=mast:HST/product/obmzm10d0_sx2.fits to ./mastDownload/HST/obmzm10d0/obmzm10d0_sx2.fits ... [Done]\n"
     ]
    },
    {
     "data": {
      "text/html": [
       "<i>Table length=8</i>\n",
       "<table id=\"table34916576112\" class=\"table-striped table-bordered table-condensed\">\n",
       "<thead><tr><th>Local Path</th><th>Status</th><th>Message</th><th>URL</th></tr></thead>\n",
       "<thead><tr><th>str47</th><th>str8</th><th>object</th><th>object</th></tr></thead>\n",
       "<tr><td>./mastDownload/HST/obmzl3060/obmzl3060_raw.fits</td><td>COMPLETE</td><td>None</td><td>None</td></tr>\n",
       "<tr><td>./mastDownload/HST/obmzl3060/obmzl3060_flt.fits</td><td>COMPLETE</td><td>None</td><td>None</td></tr>\n",
       "<tr><td>./mastDownload/HST/obmzl3060/obmzl3060_sx1.fits</td><td>COMPLETE</td><td>None</td><td>None</td></tr>\n",
       "<tr><td>./mastDownload/HST/obmzl3060/obmzl3060_sx2.fits</td><td>COMPLETE</td><td>None</td><td>None</td></tr>\n",
       "<tr><td>./mastDownload/HST/obmzm10d0/obmzm10d0_raw.fits</td><td>COMPLETE</td><td>None</td><td>None</td></tr>\n",
       "<tr><td>./mastDownload/HST/obmzm10d0/obmzm10d0_flt.fits</td><td>COMPLETE</td><td>None</td><td>None</td></tr>\n",
       "<tr><td>./mastDownload/HST/obmzm10d0/obmzm10d0_sx1.fits</td><td>COMPLETE</td><td>None</td><td>None</td></tr>\n",
       "<tr><td>./mastDownload/HST/obmzm10d0/obmzm10d0_sx2.fits</td><td>COMPLETE</td><td>None</td><td>None</td></tr>\n",
       "</table>"
      ],
      "text/plain": [
       "<Table length=8>\n",
       "                   Local Path                    Status  Message  URL  \n",
       "                     str47                        str8    object object\n",
       "----------------------------------------------- -------- ------- ------\n",
       "./mastDownload/HST/obmzl3060/obmzl3060_raw.fits COMPLETE    None   None\n",
       "./mastDownload/HST/obmzl3060/obmzl3060_flt.fits COMPLETE    None   None\n",
       "./mastDownload/HST/obmzl3060/obmzl3060_sx1.fits COMPLETE    None   None\n",
       "./mastDownload/HST/obmzl3060/obmzl3060_sx2.fits COMPLETE    None   None\n",
       "./mastDownload/HST/obmzm10d0/obmzm10d0_raw.fits COMPLETE    None   None\n",
       "./mastDownload/HST/obmzm10d0/obmzm10d0_flt.fits COMPLETE    None   None\n",
       "./mastDownload/HST/obmzm10d0/obmzm10d0_sx1.fits COMPLETE    None   None\n",
       "./mastDownload/HST/obmzm10d0/obmzm10d0_sx2.fits COMPLETE    None   None"
      ]
     },
     "execution_count": 15,
     "metadata": {},
     "output_type": "execute_result"
    }
   ],
   "source": [
    "Observations.download_products(data_products,productType=[\"SCIENCE\"],mrp_only=False)"
   ]
  }
 ],
 "metadata": {
  "kernelspec": {
   "display_name": "Python 3",
   "language": "python",
   "name": "python3"
  },
  "language_info": {
   "codemirror_mode": {
    "name": "ipython",
    "version": 3
   },
   "file_extension": ".py",
   "mimetype": "text/x-python",
   "name": "python",
   "nbconvert_exporter": "python",
   "pygments_lexer": "ipython3",
   "version": "3.6.5"
  }
 },
 "nbformat": 4,
 "nbformat_minor": 2
}
