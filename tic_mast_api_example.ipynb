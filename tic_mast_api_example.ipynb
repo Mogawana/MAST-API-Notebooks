{
 "cells": [
  {
   "cell_type": "code",
   "execution_count": 47,
   "metadata": {},
   "outputs": [],
   "source": [
    "# This is a helper function the API uses a lot in the tutorials.  We define it up front for use later.\n",
    "def mastQuery(request):\n",
    "    server='mast.stsci.edu'\n",
    "    # Grab Python Version \n",
    "    version = \".\".join(map(str, sys.version_info[:3]))\n",
    "    # Create Http Header Variables\n",
    "    headers = {\"Content-type\": \"application/x-www-form-urlencoded\",\n",
    "               \"Accept\": \"text/plain\",\n",
    "               \"User-agent\":\"python-requests/\"+version}\n",
    "    # Encoding the request as a json string\n",
    "    requestString = json.dumps(request)\n",
    "    requestString = urlencode(requestString)\n",
    "    # opening the https connection\n",
    "    conn = httplib.HTTPSConnection(server)\n",
    "    # Making the query\n",
    "    conn.request(\"POST\", \"/api/v0/invoke\", \"request=\"+requestString, headers)\n",
    "    # Getting the response\n",
    "    resp = conn.getresponse()\n",
    "    head = resp.getheaders()\n",
    "    content = resp.read().decode('utf-8')\n",
    "    # Close the https connection\n",
    "    conn.close()\n",
    "    return head,content"
   ]
  },
  {
   "cell_type": "code",
   "execution_count": 48,
   "metadata": {},
   "outputs": [],
   "source": [
    "# Import some modules we need below.\n",
    "import json\n",
    "import sys\n",
    "try: # Python 3.x\n",
    "    from urllib.parse import quote as urlencode\n",
    "    from urllib.request import urlretrieve\n",
    "except ImportError:  # Python 2.x\n",
    "    from urllib import pathname2url as urlencode\n",
    "    from urllib import urlretrieve\n",
    "    \n",
    "try: # Python 3.x\n",
    "    import http.client as httplib \n",
    "except ImportError:  # Python 2.x\n",
    "    import httplib       "
   ]
  },
  {
   "cell_type": "code",
   "execution_count": 49,
   "metadata": {},
   "outputs": [],
   "source": [
    "# Define some input variables.\n",
    "# This specifies the service we want to use, the return format, and that we want all TIC columns returned back.\n",
    "service=\"Mast.Catalogs.Filtered.Tic\"\n",
    "return_format=\"json\"\n",
    "return_cols=\"*\""
   ]
  },
  {
   "cell_type": "code",
   "execution_count": 54,
   "metadata": {},
   "outputs": [],
   "source": [
    "# Now let's specify the filters we want to run before we do a search.\n",
    "# We will get all targets south of -30 deg Declination, with effective\n",
    "# temperatures between 4250-4500 K. and surface gravities between\n",
    "# 4.4-5.0.\n",
    "adv_filters=[\n",
    "    {\"paramName\":\"Dec\", \"values\":[{\"min\":-90.,\"max\":-30.}]},\n",
    "    {\"paramName\":\"Teff\", \"values\":[{\"min\":4250.,\"max\":4500.}]},\n",
    "    {\"paramName\":\"logg\", \"values\":[{\"min\":4.4,\"max\":5.0}]},\n",
    "    {\"paramName\":\"Tmag\", \"values\":[{\"min\":8.,\"max\":10.}]}\n",
    "]"
   ]
  },
  {
   "cell_type": "code",
   "execution_count": 55,
   "metadata": {},
   "outputs": [],
   "source": [
    "headers, outString = mastQuery({\"service\":service,\n",
    "                                    \"format\":return_format,\n",
    "                                    \"params\":{\"columns\":return_cols, \"filters\":adv_filters}})"
   ]
  },
  {
   "cell_type": "code",
   "execution_count": 56,
   "metadata": {},
   "outputs": [],
   "source": [
    "outData=json.loads(outString)"
   ]
  },
  {
   "cell_type": "code",
   "execution_count": 57,
   "metadata": {},
   "outputs": [
    {
     "name": "stdout",
     "output_type": "stream",
     "text": [
      "{'status': 'EXECUTING', 'msg': ''}\n"
     ]
    }
   ],
   "source": [
    "print(outData)"
   ]
  },
  {
   "cell_type": "code",
   "execution_count": null,
   "metadata": {},
   "outputs": [],
   "source": []
  }
 ],
 "metadata": {
  "kernelspec": {
   "display_name": "Python 3",
   "language": "python",
   "name": "python3"
  },
  "language_info": {
   "codemirror_mode": {
    "name": "ipython",
    "version": 3
   },
   "file_extension": ".py",
   "mimetype": "text/x-python",
   "name": "python",
   "nbconvert_exporter": "python",
   "pygments_lexer": "ipython3",
   "version": "3.6.4"
  }
 },
 "nbformat": 4,
 "nbformat_minor": 2
}
